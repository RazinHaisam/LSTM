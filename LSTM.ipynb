{
 "cells": [
  {
   "cell_type": "code",
   "execution_count": 53,
   "id": "13a4ff0b",
   "metadata": {},
   "outputs": [],
   "source": [
    "import pandas as pd\n",
    "import numpy as np\n",
    "import seaborn as sns\n",
    "import matplotlib.pyplot as plt\n",
    "import re\n",
    "from nltk.tokenize import word_tokenize\n",
    "from nltk.stem import SnowballStemmer\n",
    "from nltk.stem import WordNetLemmatizer\n",
    "from nltk.corpus import stopwords \n",
    "from sklearn.feature_extraction.text import CountVectorizer\n",
    "from sklearn.feature_extraction.text import TfidfVectorizer\n",
    "from sklearn.preprocessing import LabelEncoder\n",
    "from sklearn.model_selection import train_test_split\n",
    "from tensorflow import keras\n",
    "import keras\n",
    "import tensorflow as tf\n",
    "from tensorflow.keras.models import Sequential\n",
    "from tensorflow.keras.layers import Dense\n",
    "from tensorflow.keras.layers import LSTM\n",
    "from tensorflow.keras.layers import Embedding"
   ]
  },
  {
   "cell_type": "code",
   "execution_count": 57,
   "id": "33c4760e",
   "metadata": {},
   "outputs": [],
   "source": [
    "df=pd.read_csv('train.csv')"
   ]
  },
  {
   "cell_type": "code",
   "execution_count": 58,
   "id": "e30bbc67",
   "metadata": {},
   "outputs": [
    {
     "data": {
      "text/html": [
       "<div>\n",
       "<style scoped>\n",
       "    .dataframe tbody tr th:only-of-type {\n",
       "        vertical-align: middle;\n",
       "    }\n",
       "\n",
       "    .dataframe tbody tr th {\n",
       "        vertical-align: top;\n",
       "    }\n",
       "\n",
       "    .dataframe thead th {\n",
       "        text-align: right;\n",
       "    }\n",
       "</style>\n",
       "<table border=\"1\" class=\"dataframe\">\n",
       "  <thead>\n",
       "    <tr style=\"text-align: right;\">\n",
       "      <th></th>\n",
       "      <th>Tweets</th>\n",
       "      <th>label</th>\n",
       "    </tr>\n",
       "  </thead>\n",
       "  <tbody>\n",
       "    <tr>\n",
       "      <th>0</th>\n",
       "      <td>Asked #ChatGPT about what it thinks are the pr...</td>\n",
       "      <td>Positive</td>\n",
       "    </tr>\n",
       "    <tr>\n",
       "      <th>1</th>\n",
       "      <td>#ChatGPT tornado has already traveled around t...</td>\n",
       "      <td>Neutral</td>\n",
       "    </tr>\n",
       "    <tr>\n",
       "      <th>2</th>\n",
       "      <td>This is a great explanation of why #EVs are mo...</td>\n",
       "      <td>Positive</td>\n",
       "    </tr>\n",
       "    <tr>\n",
       "      <th>3</th>\n",
       "      <td>‘if you need to write a box-ticking social med...</td>\n",
       "      <td>Positive</td>\n",
       "    </tr>\n",
       "    <tr>\n",
       "      <th>4</th>\n",
       "      <td>Just saw an AI tool making my coffee for me. \\...</td>\n",
       "      <td>Positive</td>\n",
       "    </tr>\n",
       "    <tr>\n",
       "      <th>...</th>\n",
       "      <td>...</td>\n",
       "      <td>...</td>\n",
       "    </tr>\n",
       "    <tr>\n",
       "      <th>765</th>\n",
       "      <td>NaN</td>\n",
       "      <td>NaN</td>\n",
       "    </tr>\n",
       "    <tr>\n",
       "      <th>766</th>\n",
       "      <td>NaN</td>\n",
       "      <td>NaN</td>\n",
       "    </tr>\n",
       "    <tr>\n",
       "      <th>767</th>\n",
       "      <td>NaN</td>\n",
       "      <td>NaN</td>\n",
       "    </tr>\n",
       "    <tr>\n",
       "      <th>768</th>\n",
       "      <td>NaN</td>\n",
       "      <td>NaN</td>\n",
       "    </tr>\n",
       "    <tr>\n",
       "      <th>769</th>\n",
       "      <td>NaN</td>\n",
       "      <td>NaN</td>\n",
       "    </tr>\n",
       "  </tbody>\n",
       "</table>\n",
       "<p>770 rows × 2 columns</p>\n",
       "</div>"
      ],
      "text/plain": [
       "                                                Tweets     label\n",
       "0    Asked #ChatGPT about what it thinks are the pr...  Positive\n",
       "1    #ChatGPT tornado has already traveled around t...   Neutral\n",
       "2    This is a great explanation of why #EVs are mo...  Positive\n",
       "3    ‘if you need to write a box-ticking social med...  Positive\n",
       "4    Just saw an AI tool making my coffee for me. \\...  Positive\n",
       "..                                                 ...       ...\n",
       "765                                                NaN       NaN\n",
       "766                                                NaN       NaN\n",
       "767                                                NaN       NaN\n",
       "768                                                NaN       NaN\n",
       "769                                                NaN       NaN\n",
       "\n",
       "[770 rows x 2 columns]"
      ]
     },
     "execution_count": 58,
     "metadata": {},
     "output_type": "execute_result"
    }
   ],
   "source": [
    "df"
   ]
  },
  {
   "cell_type": "code",
   "execution_count": 59,
   "id": "e11fcf8a",
   "metadata": {},
   "outputs": [
    {
     "data": {
      "text/plain": [
       "Tweets    171\n",
       "label     171\n",
       "dtype: int64"
      ]
     },
     "execution_count": 59,
     "metadata": {},
     "output_type": "execute_result"
    }
   ],
   "source": [
    "df.isnull().sum()"
   ]
  },
  {
   "cell_type": "code",
   "execution_count": 60,
   "id": "4705019f",
   "metadata": {},
   "outputs": [
    {
     "data": {
      "text/html": [
       "<div>\n",
       "<style scoped>\n",
       "    .dataframe tbody tr th:only-of-type {\n",
       "        vertical-align: middle;\n",
       "    }\n",
       "\n",
       "    .dataframe tbody tr th {\n",
       "        vertical-align: top;\n",
       "    }\n",
       "\n",
       "    .dataframe thead th {\n",
       "        text-align: right;\n",
       "    }\n",
       "</style>\n",
       "<table border=\"1\" class=\"dataframe\">\n",
       "  <thead>\n",
       "    <tr style=\"text-align: right;\">\n",
       "      <th></th>\n",
       "      <th>Tweets</th>\n",
       "      <th>label</th>\n",
       "    </tr>\n",
       "  </thead>\n",
       "  <tbody>\n",
       "    <tr>\n",
       "      <th>0</th>\n",
       "      <td>Asked #ChatGPT about what it thinks are the pr...</td>\n",
       "      <td>Positive</td>\n",
       "    </tr>\n",
       "    <tr>\n",
       "      <th>1</th>\n",
       "      <td>#ChatGPT tornado has already traveled around t...</td>\n",
       "      <td>Neutral</td>\n",
       "    </tr>\n",
       "    <tr>\n",
       "      <th>2</th>\n",
       "      <td>This is a great explanation of why #EVs are mo...</td>\n",
       "      <td>Positive</td>\n",
       "    </tr>\n",
       "    <tr>\n",
       "      <th>3</th>\n",
       "      <td>‘if you need to write a box-ticking social med...</td>\n",
       "      <td>Positive</td>\n",
       "    </tr>\n",
       "    <tr>\n",
       "      <th>4</th>\n",
       "      <td>Just saw an AI tool making my coffee for me. \\...</td>\n",
       "      <td>Positive</td>\n",
       "    </tr>\n",
       "    <tr>\n",
       "      <th>...</th>\n",
       "      <td>...</td>\n",
       "      <td>...</td>\n",
       "    </tr>\n",
       "    <tr>\n",
       "      <th>595</th>\n",
       "      <td>3. KeyboardX also provides a more secure envir...</td>\n",
       "      <td>Positive</td>\n",
       "    </tr>\n",
       "    <tr>\n",
       "      <th>596</th>\n",
       "      <td>2. KeyboardX allows users to quickly and easil...</td>\n",
       "      <td>Positive</td>\n",
       "    </tr>\n",
       "    <tr>\n",
       "      <th>597</th>\n",
       "      <td>I asked ChatGPT why the app I’m working on, Ke...</td>\n",
       "      <td>Positive</td>\n",
       "    </tr>\n",
       "    <tr>\n",
       "      <th>598</th>\n",
       "      <td>There's been a lot of talk about AI engines an...</td>\n",
       "      <td>Positive</td>\n",
       "    </tr>\n",
       "    <tr>\n",
       "      <th>599</th>\n",
       "      <td>NaN</td>\n",
       "      <td>NaN</td>\n",
       "    </tr>\n",
       "  </tbody>\n",
       "</table>\n",
       "<p>600 rows × 2 columns</p>\n",
       "</div>"
      ],
      "text/plain": [
       "                                                Tweets     label\n",
       "0    Asked #ChatGPT about what it thinks are the pr...  Positive\n",
       "1    #ChatGPT tornado has already traveled around t...   Neutral\n",
       "2    This is a great explanation of why #EVs are mo...  Positive\n",
       "3    ‘if you need to write a box-ticking social med...  Positive\n",
       "4    Just saw an AI tool making my coffee for me. \\...  Positive\n",
       "..                                                 ...       ...\n",
       "595  3. KeyboardX also provides a more secure envir...  Positive\n",
       "596  2. KeyboardX allows users to quickly and easil...  Positive\n",
       "597  I asked ChatGPT why the app I’m working on, Ke...  Positive\n",
       "598  There's been a lot of talk about AI engines an...  Positive\n",
       "599                                                NaN       NaN\n",
       "\n",
       "[600 rows x 2 columns]"
      ]
     },
     "execution_count": 60,
     "metadata": {},
     "output_type": "execute_result"
    }
   ],
   "source": [
    "df.head(600)"
   ]
  },
  {
   "cell_type": "code",
   "execution_count": 61,
   "id": "17b7372f",
   "metadata": {},
   "outputs": [],
   "source": [
    "df=df.dropna()"
   ]
  },
  {
   "cell_type": "code",
   "execution_count": 62,
   "id": "31ae4508",
   "metadata": {},
   "outputs": [
    {
     "data": {
      "text/plain": [
       "Tweets    0\n",
       "label     0\n",
       "dtype: int64"
      ]
     },
     "execution_count": 62,
     "metadata": {},
     "output_type": "execute_result"
    }
   ],
   "source": [
    "df.isnull().sum()"
   ]
  },
  {
   "cell_type": "code",
   "execution_count": 63,
   "id": "ffd7d48e",
   "metadata": {},
   "outputs": [
    {
     "data": {
      "text/plain": [
       "'Confidence can even make the truth seem false XD\\n#ChatGPT https://t.co/VQ7lf5bhhI'"
      ]
     },
     "execution_count": 63,
     "metadata": {},
     "output_type": "execute_result"
    }
   ],
   "source": [
    "df['Tweets'][15]"
   ]
  },
  {
   "cell_type": "code",
   "execution_count": 64,
   "id": "0ef794b8",
   "metadata": {},
   "outputs": [
    {
     "data": {
      "text/plain": [
       "'Confidence can even make the truth seem false XD\\n#ChatGPT https://t.co/VQ7lf5bhhI'"
      ]
     },
     "execution_count": 64,
     "metadata": {},
     "output_type": "execute_result"
    }
   ],
   "source": [
    "df['Tweets'][15]"
   ]
  },
  {
   "cell_type": "code",
   "execution_count": null,
   "id": "e9cdd561",
   "metadata": {},
   "outputs": [],
   "source": []
  },
  {
   "cell_type": "code",
   "execution_count": null,
   "id": "c8aeeca6",
   "metadata": {},
   "outputs": [],
   "source": []
  },
  {
   "cell_type": "code",
   "execution_count": 65,
   "id": "94a986b4",
   "metadata": {},
   "outputs": [
    {
     "data": {
      "text/plain": [
       "'Confidence can even make the truth seem false XD\\n#ChatGPT https://t.co/VQ7lf5bhhI'"
      ]
     },
     "execution_count": 65,
     "metadata": {},
     "output_type": "execute_result"
    }
   ],
   "source": [
    "df['Tweets'][15]"
   ]
  },
  {
   "cell_type": "code",
   "execution_count": 66,
   "id": "a56ace1e",
   "metadata": {},
   "outputs": [
    {
     "name": "stderr",
     "output_type": "stream",
     "text": [
      "C:\\Users\\hp\\AppData\\Local\\Temp\\ipykernel_6904\\1336326747.py:2: SettingWithCopyWarning: \n",
      "A value is trying to be set on a copy of a slice from a DataFrame\n",
      "\n",
      "See the caveats in the documentation: https://pandas.pydata.org/pandas-docs/stable/user_guide/indexing.html#returning-a-view-versus-a-copy\n",
      "  df['Tweets'][i] = re.sub(r\"https:\\S+|www\\S+|https\\S+\", '', df['Tweets'][i])\n",
      "C:\\Users\\hp\\AppData\\Local\\Temp\\ipykernel_6904\\1336326747.py:3: SettingWithCopyWarning: \n",
      "A value is trying to be set on a copy of a slice from a DataFrame\n",
      "\n",
      "See the caveats in the documentation: https://pandas.pydata.org/pandas-docs/stable/user_guide/indexing.html#returning-a-view-versus-a-copy\n",
      "  df['Tweets'][i] = re.sub(r'@[\\w]*', '', df['Tweets'][i])\n",
      "C:\\Users\\hp\\AppData\\Local\\Temp\\ipykernel_6904\\1336326747.py:4: SettingWithCopyWarning: \n",
      "A value is trying to be set on a copy of a slice from a DataFrame\n",
      "\n",
      "See the caveats in the documentation: https://pandas.pydata.org/pandas-docs/stable/user_guide/indexing.html#returning-a-view-versus-a-copy\n",
      "  df['Tweets'][i] = re.sub(r'\\W', ' ', df['Tweets'][i])\n",
      "C:\\Users\\hp\\AppData\\Local\\Temp\\ipykernel_6904\\1336326747.py:5: SettingWithCopyWarning: \n",
      "A value is trying to be set on a copy of a slice from a DataFrame\n",
      "\n",
      "See the caveats in the documentation: https://pandas.pydata.org/pandas-docs/stable/user_guide/indexing.html#returning-a-view-versus-a-copy\n",
      "  df['Tweets'][i] = re.sub(r'\\d', ' ', df['Tweets'][i])\n"
     ]
    }
   ],
   "source": [
    "for i in range(599):\n",
    "    df['Tweets'][i] = re.sub(r\"https:\\S+|www\\S+|https\\S+\", '', df['Tweets'][i])\n",
    "    df['Tweets'][i] = re.sub(r'@[\\w]*', '', df['Tweets'][i])\n",
    "    df['Tweets'][i] = re.sub(r'\\W', ' ', df['Tweets'][i])\n",
    "    df['Tweets'][i] = re.sub(r'\\d', ' ', df['Tweets'][i])"
   ]
  },
  {
   "cell_type": "code",
   "execution_count": 67,
   "id": "d1483d95",
   "metadata": {},
   "outputs": [
    {
     "data": {
      "text/plain": [
       "'Confidence can even make the truth seem false XD  ChatGPT '"
      ]
     },
     "execution_count": 67,
     "metadata": {},
     "output_type": "execute_result"
    }
   ],
   "source": [
    "df['Tweets'][15]"
   ]
  },
  {
   "cell_type": "code",
   "execution_count": 68,
   "id": "081e427d",
   "metadata": {},
   "outputs": [
    {
     "name": "stderr",
     "output_type": "stream",
     "text": [
      "C:\\Users\\hp\\AppData\\Local\\Temp\\ipykernel_6904\\2297265130.py:2: SettingWithCopyWarning: \n",
      "A value is trying to be set on a copy of a slice from a DataFrame\n",
      "\n",
      "See the caveats in the documentation: https://pandas.pydata.org/pandas-docs/stable/user_guide/indexing.html#returning-a-view-versus-a-copy\n",
      "  df['Tweets'][i]=(df['Tweets'][i]).lower()\n"
     ]
    }
   ],
   "source": [
    "for i in range(599):\n",
    "    df['Tweets'][i]=(df['Tweets'][i]).lower()"
   ]
  },
  {
   "cell_type": "code",
   "execution_count": 69,
   "id": "78696a49",
   "metadata": {},
   "outputs": [
    {
     "name": "stderr",
     "output_type": "stream",
     "text": [
      "C:\\Users\\hp\\AppData\\Local\\Temp\\ipykernel_6904\\3433724338.py:2: SettingWithCopyWarning: \n",
      "A value is trying to be set on a copy of a slice from a DataFrame\n",
      "\n",
      "See the caveats in the documentation: https://pandas.pydata.org/pandas-docs/stable/user_guide/indexing.html#returning-a-view-versus-a-copy\n",
      "  df['Tweets'][i] = word_tokenize(df['Tweets'][i])\n"
     ]
    }
   ],
   "source": [
    "for i in range(599):\n",
    "    df['Tweets'][i] = word_tokenize(df['Tweets'][i])"
   ]
  },
  {
   "cell_type": "code",
   "execution_count": 70,
   "id": "4cc705ae",
   "metadata": {},
   "outputs": [
    {
     "name": "stderr",
     "output_type": "stream",
     "text": [
      "C:\\Users\\hp\\AppData\\Local\\Temp\\ipykernel_6904\\3190894782.py:1: SettingWithCopyWarning: \n",
      "A value is trying to be set on a copy of a slice from a DataFrame.\n",
      "Try using .loc[row_indexer,col_indexer] = value instead\n",
      "\n",
      "See the caveats in the documentation: https://pandas.pydata.org/pandas-docs/stable/user_guide/indexing.html#returning-a-view-versus-a-copy\n",
      "  df['tweet_tokens']=None\n"
     ]
    },
    {
     "data": {
      "text/html": [
       "<div>\n",
       "<style scoped>\n",
       "    .dataframe tbody tr th:only-of-type {\n",
       "        vertical-align: middle;\n",
       "    }\n",
       "\n",
       "    .dataframe tbody tr th {\n",
       "        vertical-align: top;\n",
       "    }\n",
       "\n",
       "    .dataframe thead th {\n",
       "        text-align: right;\n",
       "    }\n",
       "</style>\n",
       "<table border=\"1\" class=\"dataframe\">\n",
       "  <thead>\n",
       "    <tr style=\"text-align: right;\">\n",
       "      <th></th>\n",
       "      <th>Tweets</th>\n",
       "      <th>label</th>\n",
       "      <th>tweet_tokens</th>\n",
       "    </tr>\n",
       "  </thead>\n",
       "  <tbody>\n",
       "    <tr>\n",
       "      <th>0</th>\n",
       "      <td>[asked, chatgpt, about, what, it, thinks, are,...</td>\n",
       "      <td>Positive</td>\n",
       "      <td>None</td>\n",
       "    </tr>\n",
       "    <tr>\n",
       "      <th>1</th>\n",
       "      <td>[chatgpt, tornado, has, already, traveled, aro...</td>\n",
       "      <td>Neutral</td>\n",
       "      <td>None</td>\n",
       "    </tr>\n",
       "    <tr>\n",
       "      <th>2</th>\n",
       "      <td>[this, is, a, great, explanation, of, why, evs...</td>\n",
       "      <td>Positive</td>\n",
       "      <td>None</td>\n",
       "    </tr>\n",
       "    <tr>\n",
       "      <th>3</th>\n",
       "      <td>[if, you, need, to, write, a, box, ticking, so...</td>\n",
       "      <td>Positive</td>\n",
       "      <td>None</td>\n",
       "    </tr>\n",
       "    <tr>\n",
       "      <th>4</th>\n",
       "      <td>[just, saw, an, ai, tool, making, my, coffee, ...</td>\n",
       "      <td>Positive</td>\n",
       "      <td>None</td>\n",
       "    </tr>\n",
       "    <tr>\n",
       "      <th>...</th>\n",
       "      <td>...</td>\n",
       "      <td>...</td>\n",
       "      <td>...</td>\n",
       "    </tr>\n",
       "    <tr>\n",
       "      <th>594</th>\n",
       "      <td>[gpt, s, ai, capabilities, are, also, more, ac...</td>\n",
       "      <td>Positive</td>\n",
       "      <td>None</td>\n",
       "    </tr>\n",
       "    <tr>\n",
       "      <th>595</th>\n",
       "      <td>[keyboardx, also, provides, a, more, secure, e...</td>\n",
       "      <td>Positive</td>\n",
       "      <td>None</td>\n",
       "    </tr>\n",
       "    <tr>\n",
       "      <th>596</th>\n",
       "      <td>[keyboardx, allows, users, to, quickly, and, e...</td>\n",
       "      <td>Positive</td>\n",
       "      <td>None</td>\n",
       "    </tr>\n",
       "    <tr>\n",
       "      <th>597</th>\n",
       "      <td>[i, asked, chatgpt, why, the, app, i, m, worki...</td>\n",
       "      <td>Positive</td>\n",
       "      <td>None</td>\n",
       "    </tr>\n",
       "    <tr>\n",
       "      <th>598</th>\n",
       "      <td>[there, s, been, a, lot, of, talk, about, ai, ...</td>\n",
       "      <td>Positive</td>\n",
       "      <td>None</td>\n",
       "    </tr>\n",
       "  </tbody>\n",
       "</table>\n",
       "<p>599 rows × 3 columns</p>\n",
       "</div>"
      ],
      "text/plain": [
       "                                                Tweets     label tweet_tokens\n",
       "0    [asked, chatgpt, about, what, it, thinks, are,...  Positive         None\n",
       "1    [chatgpt, tornado, has, already, traveled, aro...   Neutral         None\n",
       "2    [this, is, a, great, explanation, of, why, evs...  Positive         None\n",
       "3    [if, you, need, to, write, a, box, ticking, so...  Positive         None\n",
       "4    [just, saw, an, ai, tool, making, my, coffee, ...  Positive         None\n",
       "..                                                 ...       ...          ...\n",
       "594  [gpt, s, ai, capabilities, are, also, more, ac...  Positive         None\n",
       "595  [keyboardx, also, provides, a, more, secure, e...  Positive         None\n",
       "596  [keyboardx, allows, users, to, quickly, and, e...  Positive         None\n",
       "597  [i, asked, chatgpt, why, the, app, i, m, worki...  Positive         None\n",
       "598  [there, s, been, a, lot, of, talk, about, ai, ...  Positive         None\n",
       "\n",
       "[599 rows x 3 columns]"
      ]
     },
     "execution_count": 70,
     "metadata": {},
     "output_type": "execute_result"
    }
   ],
   "source": [
    "df['tweet_tokens']=None\n",
    "df"
   ]
  },
  {
   "cell_type": "code",
   "execution_count": 71,
   "id": "cf731e8a",
   "metadata": {},
   "outputs": [],
   "source": [
    "stop_words = set(stopwords.words('english'))"
   ]
  },
  {
   "cell_type": "code",
   "execution_count": 72,
   "id": "3f1ea346",
   "metadata": {},
   "outputs": [],
   "source": [
    "lemmatizer = WordNetLemmatizer()"
   ]
  },
  {
   "cell_type": "code",
   "execution_count": 73,
   "id": "42924dd3",
   "metadata": {},
   "outputs": [
    {
     "name": "stderr",
     "output_type": "stream",
     "text": [
      "C:\\Users\\hp\\AppData\\Local\\Temp\\ipykernel_6904\\2618934204.py:6: SettingWithCopyWarning: \n",
      "A value is trying to be set on a copy of a slice from a DataFrame\n",
      "\n",
      "See the caveats in the documentation: https://pandas.pydata.org/pandas-docs/stable/user_guide/indexing.html#returning-a-view-versus-a-copy\n",
      "  df['tweet_tokens'][i]=tokens\n"
     ]
    }
   ],
   "source": [
    "tokens=[]\n",
    "for i in range(599):\n",
    "    for token in df['Tweets'][i]:\n",
    "        if token not in stop_words:\n",
    "            tokens.append(token)\n",
    "    df['tweet_tokens'][i]=tokens\n",
    "    tokens=[]"
   ]
  },
  {
   "cell_type": "code",
   "execution_count": 74,
   "id": "ce01a135",
   "metadata": {},
   "outputs": [
    {
     "data": {
      "text/html": [
       "<div>\n",
       "<style scoped>\n",
       "    .dataframe tbody tr th:only-of-type {\n",
       "        vertical-align: middle;\n",
       "    }\n",
       "\n",
       "    .dataframe tbody tr th {\n",
       "        vertical-align: top;\n",
       "    }\n",
       "\n",
       "    .dataframe thead th {\n",
       "        text-align: right;\n",
       "    }\n",
       "</style>\n",
       "<table border=\"1\" class=\"dataframe\">\n",
       "  <thead>\n",
       "    <tr style=\"text-align: right;\">\n",
       "      <th></th>\n",
       "      <th>Tweets</th>\n",
       "      <th>label</th>\n",
       "      <th>tweet_tokens</th>\n",
       "    </tr>\n",
       "  </thead>\n",
       "  <tbody>\n",
       "    <tr>\n",
       "      <th>0</th>\n",
       "      <td>[asked, chatgpt, about, what, it, thinks, are,...</td>\n",
       "      <td>Positive</td>\n",
       "      <td>[asked, chatgpt, thinks, problems, associated,...</td>\n",
       "    </tr>\n",
       "    <tr>\n",
       "      <th>1</th>\n",
       "      <td>[chatgpt, tornado, has, already, traveled, aro...</td>\n",
       "      <td>Neutral</td>\n",
       "      <td>[chatgpt, tornado, already, traveled, around, ...</td>\n",
       "    </tr>\n",
       "    <tr>\n",
       "      <th>2</th>\n",
       "      <td>[this, is, a, great, explanation, of, why, evs...</td>\n",
       "      <td>Positive</td>\n",
       "      <td>[great, explanation, evs, efficient, energy, s...</td>\n",
       "    </tr>\n",
       "    <tr>\n",
       "      <th>3</th>\n",
       "      <td>[if, you, need, to, write, a, box, ticking, so...</td>\n",
       "      <td>Positive</td>\n",
       "      <td>[need, write, box, ticking, social, media, pos...</td>\n",
       "    </tr>\n",
       "    <tr>\n",
       "      <th>4</th>\n",
       "      <td>[just, saw, an, ai, tool, making, my, coffee, ...</td>\n",
       "      <td>Positive</td>\n",
       "      <td>[saw, ai, tool, making, coffee, chatgpt, ai, a...</td>\n",
       "    </tr>\n",
       "    <tr>\n",
       "      <th>...</th>\n",
       "      <td>...</td>\n",
       "      <td>...</td>\n",
       "      <td>...</td>\n",
       "    </tr>\n",
       "    <tr>\n",
       "      <th>594</th>\n",
       "      <td>[gpt, s, ai, capabilities, are, also, more, ac...</td>\n",
       "      <td>Positive</td>\n",
       "      <td>[gpt, ai, capabilities, also, accessible, keyb...</td>\n",
       "    </tr>\n",
       "    <tr>\n",
       "      <th>595</th>\n",
       "      <td>[keyboardx, also, provides, a, more, secure, e...</td>\n",
       "      <td>Positive</td>\n",
       "      <td>[keyboardx, also, provides, secure, environmen...</td>\n",
       "    </tr>\n",
       "    <tr>\n",
       "      <th>596</th>\n",
       "      <td>[keyboardx, allows, users, to, quickly, and, e...</td>\n",
       "      <td>Positive</td>\n",
       "      <td>[keyboardx, allows, users, quickly, easily, ac...</td>\n",
       "    </tr>\n",
       "    <tr>\n",
       "      <th>597</th>\n",
       "      <td>[i, asked, chatgpt, why, the, app, i, m, worki...</td>\n",
       "      <td>Positive</td>\n",
       "      <td>[asked, chatgpt, app, working, keyboardx, bett...</td>\n",
       "    </tr>\n",
       "    <tr>\n",
       "      <th>598</th>\n",
       "      <td>[there, s, been, a, lot, of, talk, about, ai, ...</td>\n",
       "      <td>Positive</td>\n",
       "      <td>[lot, talk, ai, engines, may, may, used, newsr...</td>\n",
       "    </tr>\n",
       "  </tbody>\n",
       "</table>\n",
       "<p>599 rows × 3 columns</p>\n",
       "</div>"
      ],
      "text/plain": [
       "                                                Tweets     label  \\\n",
       "0    [asked, chatgpt, about, what, it, thinks, are,...  Positive   \n",
       "1    [chatgpt, tornado, has, already, traveled, aro...   Neutral   \n",
       "2    [this, is, a, great, explanation, of, why, evs...  Positive   \n",
       "3    [if, you, need, to, write, a, box, ticking, so...  Positive   \n",
       "4    [just, saw, an, ai, tool, making, my, coffee, ...  Positive   \n",
       "..                                                 ...       ...   \n",
       "594  [gpt, s, ai, capabilities, are, also, more, ac...  Positive   \n",
       "595  [keyboardx, also, provides, a, more, secure, e...  Positive   \n",
       "596  [keyboardx, allows, users, to, quickly, and, e...  Positive   \n",
       "597  [i, asked, chatgpt, why, the, app, i, m, worki...  Positive   \n",
       "598  [there, s, been, a, lot, of, talk, about, ai, ...  Positive   \n",
       "\n",
       "                                          tweet_tokens  \n",
       "0    [asked, chatgpt, thinks, problems, associated,...  \n",
       "1    [chatgpt, tornado, already, traveled, around, ...  \n",
       "2    [great, explanation, evs, efficient, energy, s...  \n",
       "3    [need, write, box, ticking, social, media, pos...  \n",
       "4    [saw, ai, tool, making, coffee, chatgpt, ai, a...  \n",
       "..                                                 ...  \n",
       "594  [gpt, ai, capabilities, also, accessible, keyb...  \n",
       "595  [keyboardx, also, provides, secure, environmen...  \n",
       "596  [keyboardx, allows, users, quickly, easily, ac...  \n",
       "597  [asked, chatgpt, app, working, keyboardx, bett...  \n",
       "598  [lot, talk, ai, engines, may, may, used, newsr...  \n",
       "\n",
       "[599 rows x 3 columns]"
      ]
     },
     "execution_count": 74,
     "metadata": {},
     "output_type": "execute_result"
    }
   ],
   "source": [
    "df"
   ]
  },
  {
   "cell_type": "code",
   "execution_count": 75,
   "id": "3db022f8",
   "metadata": {},
   "outputs": [
    {
     "name": "stderr",
     "output_type": "stream",
     "text": [
      "C:\\Users\\hp\\AppData\\Local\\Temp\\ipykernel_6904\\1040707579.py:6: SettingWithCopyWarning: \n",
      "A value is trying to be set on a copy of a slice from a DataFrame\n",
      "\n",
      "See the caveats in the documentation: https://pandas.pydata.org/pandas-docs/stable/user_guide/indexing.html#returning-a-view-versus-a-copy\n",
      "  df['tweet_tokens'][i]=tokens\n"
     ]
    }
   ],
   "source": [
    "for i in range(599):\n",
    "    tokens=[]\n",
    "    for token in df['Tweets'][i]:\n",
    "        token = lemmatizer.lemmatize(token,'v')\n",
    "        tokens.append(token)\n",
    "    df['tweet_tokens'][i]=tokens"
   ]
  },
  {
   "cell_type": "code",
   "execution_count": 76,
   "id": "6da109c3",
   "metadata": {},
   "outputs": [
    {
     "data": {
      "text/html": [
       "<div>\n",
       "<style scoped>\n",
       "    .dataframe tbody tr th:only-of-type {\n",
       "        vertical-align: middle;\n",
       "    }\n",
       "\n",
       "    .dataframe tbody tr th {\n",
       "        vertical-align: top;\n",
       "    }\n",
       "\n",
       "    .dataframe thead th {\n",
       "        text-align: right;\n",
       "    }\n",
       "</style>\n",
       "<table border=\"1\" class=\"dataframe\">\n",
       "  <thead>\n",
       "    <tr style=\"text-align: right;\">\n",
       "      <th></th>\n",
       "      <th>Tweets</th>\n",
       "      <th>label</th>\n",
       "      <th>tweet_tokens</th>\n",
       "    </tr>\n",
       "  </thead>\n",
       "  <tbody>\n",
       "    <tr>\n",
       "      <th>0</th>\n",
       "      <td>[asked, chatgpt, about, what, it, thinks, are,...</td>\n",
       "      <td>Positive</td>\n",
       "      <td>[ask, chatgpt, about, what, it, think, be, the...</td>\n",
       "    </tr>\n",
       "    <tr>\n",
       "      <th>1</th>\n",
       "      <td>[chatgpt, tornado, has, already, traveled, aro...</td>\n",
       "      <td>Neutral</td>\n",
       "      <td>[chatgpt, tornado, have, already, travel, arou...</td>\n",
       "    </tr>\n",
       "    <tr>\n",
       "      <th>2</th>\n",
       "      <td>[this, is, a, great, explanation, of, why, evs...</td>\n",
       "      <td>Positive</td>\n",
       "      <td>[this, be, a, great, explanation, of, why, evs...</td>\n",
       "    </tr>\n",
       "    <tr>\n",
       "      <th>3</th>\n",
       "      <td>[if, you, need, to, write, a, box, ticking, so...</td>\n",
       "      <td>Positive</td>\n",
       "      <td>[if, you, need, to, write, a, box, tick, socia...</td>\n",
       "    </tr>\n",
       "    <tr>\n",
       "      <th>4</th>\n",
       "      <td>[just, saw, an, ai, tool, making, my, coffee, ...</td>\n",
       "      <td>Positive</td>\n",
       "      <td>[just, saw, an, ai, tool, make, my, coffee, fo...</td>\n",
       "    </tr>\n",
       "    <tr>\n",
       "      <th>...</th>\n",
       "      <td>...</td>\n",
       "      <td>...</td>\n",
       "      <td>...</td>\n",
       "    </tr>\n",
       "    <tr>\n",
       "      <th>594</th>\n",
       "      <td>[gpt, s, ai, capabilities, are, also, more, ac...</td>\n",
       "      <td>Positive</td>\n",
       "      <td>[gpt, s, ai, capabilities, be, also, more, acc...</td>\n",
       "    </tr>\n",
       "    <tr>\n",
       "      <th>595</th>\n",
       "      <td>[keyboardx, also, provides, a, more, secure, e...</td>\n",
       "      <td>Positive</td>\n",
       "      <td>[keyboardx, also, provide, a, more, secure, en...</td>\n",
       "    </tr>\n",
       "    <tr>\n",
       "      <th>596</th>\n",
       "      <td>[keyboardx, allows, users, to, quickly, and, e...</td>\n",
       "      <td>Positive</td>\n",
       "      <td>[keyboardx, allow, users, to, quickly, and, ea...</td>\n",
       "    </tr>\n",
       "    <tr>\n",
       "      <th>597</th>\n",
       "      <td>[i, asked, chatgpt, why, the, app, i, m, worki...</td>\n",
       "      <td>Positive</td>\n",
       "      <td>[i, ask, chatgpt, why, the, app, i, m, work, o...</td>\n",
       "    </tr>\n",
       "    <tr>\n",
       "      <th>598</th>\n",
       "      <td>[there, s, been, a, lot, of, talk, about, ai, ...</td>\n",
       "      <td>Positive</td>\n",
       "      <td>[there, s, be, a, lot, of, talk, about, ai, en...</td>\n",
       "    </tr>\n",
       "  </tbody>\n",
       "</table>\n",
       "<p>599 rows × 3 columns</p>\n",
       "</div>"
      ],
      "text/plain": [
       "                                                Tweets     label  \\\n",
       "0    [asked, chatgpt, about, what, it, thinks, are,...  Positive   \n",
       "1    [chatgpt, tornado, has, already, traveled, aro...   Neutral   \n",
       "2    [this, is, a, great, explanation, of, why, evs...  Positive   \n",
       "3    [if, you, need, to, write, a, box, ticking, so...  Positive   \n",
       "4    [just, saw, an, ai, tool, making, my, coffee, ...  Positive   \n",
       "..                                                 ...       ...   \n",
       "594  [gpt, s, ai, capabilities, are, also, more, ac...  Positive   \n",
       "595  [keyboardx, also, provides, a, more, secure, e...  Positive   \n",
       "596  [keyboardx, allows, users, to, quickly, and, e...  Positive   \n",
       "597  [i, asked, chatgpt, why, the, app, i, m, worki...  Positive   \n",
       "598  [there, s, been, a, lot, of, talk, about, ai, ...  Positive   \n",
       "\n",
       "                                          tweet_tokens  \n",
       "0    [ask, chatgpt, about, what, it, think, be, the...  \n",
       "1    [chatgpt, tornado, have, already, travel, arou...  \n",
       "2    [this, be, a, great, explanation, of, why, evs...  \n",
       "3    [if, you, need, to, write, a, box, tick, socia...  \n",
       "4    [just, saw, an, ai, tool, make, my, coffee, fo...  \n",
       "..                                                 ...  \n",
       "594  [gpt, s, ai, capabilities, be, also, more, acc...  \n",
       "595  [keyboardx, also, provide, a, more, secure, en...  \n",
       "596  [keyboardx, allow, users, to, quickly, and, ea...  \n",
       "597  [i, ask, chatgpt, why, the, app, i, m, work, o...  \n",
       "598  [there, s, be, a, lot, of, talk, about, ai, en...  \n",
       "\n",
       "[599 rows x 3 columns]"
      ]
     },
     "execution_count": 76,
     "metadata": {},
     "output_type": "execute_result"
    }
   ],
   "source": [
    "df"
   ]
  },
  {
   "cell_type": "code",
   "execution_count": 81,
   "id": "bf8b3ced",
   "metadata": {},
   "outputs": [
    {
     "name": "stderr",
     "output_type": "stream",
     "text": [
      "C:\\Users\\hp\\AppData\\Local\\Temp\\ipykernel_6904\\3570213057.py:3: SettingWithCopyWarning: \n",
      "A value is trying to be set on a copy of a slice from a DataFrame\n",
      "\n",
      "See the caveats in the documentation: https://pandas.pydata.org/pandas-docs/stable/user_guide/indexing.html#returning-a-view-versus-a-copy\n",
      "  df['tweet_tokens'][i]=vectorizer.fit_transform(df['tweet_tokens'][i])\n"
     ]
    }
   ],
   "source": [
    "vectorizer = CountVectorizer()\n",
    "for i in range(599):\n",
    "    df['tweet_tokens'][i]=vectorizer.fit_transform(df['tweet_tokens'][i])"
   ]
  },
  {
   "cell_type": "code",
   "execution_count": 82,
   "id": "4874f078",
   "metadata": {},
   "outputs": [
    {
     "data": {
      "text/html": [
       "<div>\n",
       "<style scoped>\n",
       "    .dataframe tbody tr th:only-of-type {\n",
       "        vertical-align: middle;\n",
       "    }\n",
       "\n",
       "    .dataframe tbody tr th {\n",
       "        vertical-align: top;\n",
       "    }\n",
       "\n",
       "    .dataframe thead th {\n",
       "        text-align: right;\n",
       "    }\n",
       "</style>\n",
       "<table border=\"1\" class=\"dataframe\">\n",
       "  <thead>\n",
       "    <tr style=\"text-align: right;\">\n",
       "      <th></th>\n",
       "      <th>Tweets</th>\n",
       "      <th>label</th>\n",
       "      <th>tweet_tokens</th>\n",
       "    </tr>\n",
       "  </thead>\n",
       "  <tbody>\n",
       "    <tr>\n",
       "      <th>0</th>\n",
       "      <td>[asked, chatgpt, about, what, it, thinks, are,...</td>\n",
       "      <td>Positive</td>\n",
       "      <td>(0, 3)\\t1\\n  (1, 7)\\t1\\n  (2, 0)\\t1\\n  (3, 2...</td>\n",
       "    </tr>\n",
       "    <tr>\n",
       "      <th>1</th>\n",
       "      <td>[chatgpt, tornado, has, already, traveled, aro...</td>\n",
       "      <td>Neutral</td>\n",
       "      <td>(0, 6)\\t1\\n  (1, 32)\\t1\\n  (2, 13)\\t1\\n  (3,...</td>\n",
       "    </tr>\n",
       "    <tr>\n",
       "      <th>2</th>\n",
       "      <td>[this, is, a, great, explanation, of, why, evs...</td>\n",
       "      <td>Positive</td>\n",
       "      <td>(0, 19)\\t1\\n  (1, 1)\\t1\\n  (3, 11)\\t1\\n  (4,...</td>\n",
       "    </tr>\n",
       "    <tr>\n",
       "      <th>3</th>\n",
       "      <td>[if, you, need, to, write, a, box, ticking, so...</td>\n",
       "      <td>Positive</td>\n",
       "      <td>(0, 11)\\t1\\n  (1, 29)\\t1\\n  (2, 15)\\t1\\n  (3...</td>\n",
       "    </tr>\n",
       "    <tr>\n",
       "      <th>4</th>\n",
       "      <td>[just, saw, an, ai, tool, making, my, coffee, ...</td>\n",
       "      <td>Positive</td>\n",
       "      <td>(0, 6)\\t1\\n  (1, 10)\\t1\\n  (2, 2)\\t1\\n  (3, ...</td>\n",
       "    </tr>\n",
       "    <tr>\n",
       "      <th>...</th>\n",
       "      <td>...</td>\n",
       "      <td>...</td>\n",
       "      <td>...</td>\n",
       "    </tr>\n",
       "    <tr>\n",
       "      <th>594</th>\n",
       "      <td>[gpt, s, ai, capabilities, are, also, more, ac...</td>\n",
       "      <td>Positive</td>\n",
       "      <td>(0, 11)\\t1\\n  (2, 2)\\t1\\n  (3, 8)\\t1\\n  (4, ...</td>\n",
       "    </tr>\n",
       "    <tr>\n",
       "      <th>595</th>\n",
       "      <td>[keyboardx, also, provides, a, more, secure, e...</td>\n",
       "      <td>Positive</td>\n",
       "      <td>(0, 11)\\t1\\n  (1, 1)\\t1\\n  (2, 15)\\t1\\n  (4,...</td>\n",
       "    </tr>\n",
       "    <tr>\n",
       "      <th>596</th>\n",
       "      <td>[keyboardx, allows, users, to, quickly, and, e...</td>\n",
       "      <td>Positive</td>\n",
       "      <td>(0, 10)\\t1\\n  (1, 2)\\t1\\n  (2, 16)\\t1\\n  (3,...</td>\n",
       "    </tr>\n",
       "    <tr>\n",
       "      <th>597</th>\n",
       "      <td>[i, asked, chatgpt, why, the, app, i, m, worki...</td>\n",
       "      <td>Positive</td>\n",
       "      <td>(1, 3)\\t1\\n  (2, 11)\\t1\\n  (3, 31)\\t1\\n  (4,...</td>\n",
       "    </tr>\n",
       "    <tr>\n",
       "      <th>598</th>\n",
       "      <td>[there, s, been, a, lot, of, talk, about, ai, ...</td>\n",
       "      <td>Positive</td>\n",
       "      <td>(0, 30)\\t1\\n  (2, 5)\\t1\\n  (4, 16)\\t1\\n  (5,...</td>\n",
       "    </tr>\n",
       "  </tbody>\n",
       "</table>\n",
       "<p>599 rows × 3 columns</p>\n",
       "</div>"
      ],
      "text/plain": [
       "                                                Tweets     label  \\\n",
       "0    [asked, chatgpt, about, what, it, thinks, are,...  Positive   \n",
       "1    [chatgpt, tornado, has, already, traveled, aro...   Neutral   \n",
       "2    [this, is, a, great, explanation, of, why, evs...  Positive   \n",
       "3    [if, you, need, to, write, a, box, ticking, so...  Positive   \n",
       "4    [just, saw, an, ai, tool, making, my, coffee, ...  Positive   \n",
       "..                                                 ...       ...   \n",
       "594  [gpt, s, ai, capabilities, are, also, more, ac...  Positive   \n",
       "595  [keyboardx, also, provides, a, more, secure, e...  Positive   \n",
       "596  [keyboardx, allows, users, to, quickly, and, e...  Positive   \n",
       "597  [i, asked, chatgpt, why, the, app, i, m, worki...  Positive   \n",
       "598  [there, s, been, a, lot, of, talk, about, ai, ...  Positive   \n",
       "\n",
       "                                          tweet_tokens  \n",
       "0      (0, 3)\\t1\\n  (1, 7)\\t1\\n  (2, 0)\\t1\\n  (3, 2...  \n",
       "1      (0, 6)\\t1\\n  (1, 32)\\t1\\n  (2, 13)\\t1\\n  (3,...  \n",
       "2      (0, 19)\\t1\\n  (1, 1)\\t1\\n  (3, 11)\\t1\\n  (4,...  \n",
       "3      (0, 11)\\t1\\n  (1, 29)\\t1\\n  (2, 15)\\t1\\n  (3...  \n",
       "4      (0, 6)\\t1\\n  (1, 10)\\t1\\n  (2, 2)\\t1\\n  (3, ...  \n",
       "..                                                 ...  \n",
       "594    (0, 11)\\t1\\n  (2, 2)\\t1\\n  (3, 8)\\t1\\n  (4, ...  \n",
       "595    (0, 11)\\t1\\n  (1, 1)\\t1\\n  (2, 15)\\t1\\n  (4,...  \n",
       "596    (0, 10)\\t1\\n  (1, 2)\\t1\\n  (2, 16)\\t1\\n  (3,...  \n",
       "597    (1, 3)\\t1\\n  (2, 11)\\t1\\n  (3, 31)\\t1\\n  (4,...  \n",
       "598    (0, 30)\\t1\\n  (2, 5)\\t1\\n  (4, 16)\\t1\\n  (5,...  \n",
       "\n",
       "[599 rows x 3 columns]"
      ]
     },
     "execution_count": 82,
     "metadata": {},
     "output_type": "execute_result"
    }
   ],
   "source": [
    "df"
   ]
  },
  {
   "cell_type": "code",
   "execution_count": 83,
   "id": "3bb33bd8",
   "metadata": {},
   "outputs": [],
   "source": [
    "lb=LabelEncoder()"
   ]
  },
  {
   "cell_type": "code",
   "execution_count": 84,
   "id": "30eee22e",
   "metadata": {},
   "outputs": [
    {
     "name": "stderr",
     "output_type": "stream",
     "text": [
      "C:\\Users\\hp\\AppData\\Local\\Temp\\ipykernel_6904\\4275040492.py:1: SettingWithCopyWarning: \n",
      "A value is trying to be set on a copy of a slice from a DataFrame.\n",
      "Try using .loc[row_indexer,col_indexer] = value instead\n",
      "\n",
      "See the caveats in the documentation: https://pandas.pydata.org/pandas-docs/stable/user_guide/indexing.html#returning-a-view-versus-a-copy\n",
      "  df['label']=lb.fit_transform(df['label'])\n"
     ]
    }
   ],
   "source": [
    "df['label']=lb.fit_transform(df['label'])"
   ]
  },
  {
   "cell_type": "code",
   "execution_count": 85,
   "id": "45a2c9a0",
   "metadata": {},
   "outputs": [
    {
     "data": {
      "text/html": [
       "<div>\n",
       "<style scoped>\n",
       "    .dataframe tbody tr th:only-of-type {\n",
       "        vertical-align: middle;\n",
       "    }\n",
       "\n",
       "    .dataframe tbody tr th {\n",
       "        vertical-align: top;\n",
       "    }\n",
       "\n",
       "    .dataframe thead th {\n",
       "        text-align: right;\n",
       "    }\n",
       "</style>\n",
       "<table border=\"1\" class=\"dataframe\">\n",
       "  <thead>\n",
       "    <tr style=\"text-align: right;\">\n",
       "      <th></th>\n",
       "      <th>Tweets</th>\n",
       "      <th>label</th>\n",
       "      <th>tweet_tokens</th>\n",
       "    </tr>\n",
       "  </thead>\n",
       "  <tbody>\n",
       "    <tr>\n",
       "      <th>0</th>\n",
       "      <td>[asked, chatgpt, about, what, it, thinks, are,...</td>\n",
       "      <td>2</td>\n",
       "      <td>(0, 3)\\t1\\n  (1, 7)\\t1\\n  (2, 0)\\t1\\n  (3, 2...</td>\n",
       "    </tr>\n",
       "    <tr>\n",
       "      <th>1</th>\n",
       "      <td>[chatgpt, tornado, has, already, traveled, aro...</td>\n",
       "      <td>1</td>\n",
       "      <td>(0, 6)\\t1\\n  (1, 32)\\t1\\n  (2, 13)\\t1\\n  (3,...</td>\n",
       "    </tr>\n",
       "    <tr>\n",
       "      <th>2</th>\n",
       "      <td>[this, is, a, great, explanation, of, why, evs...</td>\n",
       "      <td>2</td>\n",
       "      <td>(0, 19)\\t1\\n  (1, 1)\\t1\\n  (3, 11)\\t1\\n  (4,...</td>\n",
       "    </tr>\n",
       "    <tr>\n",
       "      <th>3</th>\n",
       "      <td>[if, you, need, to, write, a, box, ticking, so...</td>\n",
       "      <td>2</td>\n",
       "      <td>(0, 11)\\t1\\n  (1, 29)\\t1\\n  (2, 15)\\t1\\n  (3...</td>\n",
       "    </tr>\n",
       "    <tr>\n",
       "      <th>4</th>\n",
       "      <td>[just, saw, an, ai, tool, making, my, coffee, ...</td>\n",
       "      <td>2</td>\n",
       "      <td>(0, 6)\\t1\\n  (1, 10)\\t1\\n  (2, 2)\\t1\\n  (3, ...</td>\n",
       "    </tr>\n",
       "    <tr>\n",
       "      <th>...</th>\n",
       "      <td>...</td>\n",
       "      <td>...</td>\n",
       "      <td>...</td>\n",
       "    </tr>\n",
       "    <tr>\n",
       "      <th>594</th>\n",
       "      <td>[gpt, s, ai, capabilities, are, also, more, ac...</td>\n",
       "      <td>2</td>\n",
       "      <td>(0, 11)\\t1\\n  (2, 2)\\t1\\n  (3, 8)\\t1\\n  (4, ...</td>\n",
       "    </tr>\n",
       "    <tr>\n",
       "      <th>595</th>\n",
       "      <td>[keyboardx, also, provides, a, more, secure, e...</td>\n",
       "      <td>2</td>\n",
       "      <td>(0, 11)\\t1\\n  (1, 1)\\t1\\n  (2, 15)\\t1\\n  (4,...</td>\n",
       "    </tr>\n",
       "    <tr>\n",
       "      <th>596</th>\n",
       "      <td>[keyboardx, allows, users, to, quickly, and, e...</td>\n",
       "      <td>2</td>\n",
       "      <td>(0, 10)\\t1\\n  (1, 2)\\t1\\n  (2, 16)\\t1\\n  (3,...</td>\n",
       "    </tr>\n",
       "    <tr>\n",
       "      <th>597</th>\n",
       "      <td>[i, asked, chatgpt, why, the, app, i, m, worki...</td>\n",
       "      <td>2</td>\n",
       "      <td>(1, 3)\\t1\\n  (2, 11)\\t1\\n  (3, 31)\\t1\\n  (4,...</td>\n",
       "    </tr>\n",
       "    <tr>\n",
       "      <th>598</th>\n",
       "      <td>[there, s, been, a, lot, of, talk, about, ai, ...</td>\n",
       "      <td>2</td>\n",
       "      <td>(0, 30)\\t1\\n  (2, 5)\\t1\\n  (4, 16)\\t1\\n  (5,...</td>\n",
       "    </tr>\n",
       "  </tbody>\n",
       "</table>\n",
       "<p>599 rows × 3 columns</p>\n",
       "</div>"
      ],
      "text/plain": [
       "                                                Tweets  label  \\\n",
       "0    [asked, chatgpt, about, what, it, thinks, are,...      2   \n",
       "1    [chatgpt, tornado, has, already, traveled, aro...      1   \n",
       "2    [this, is, a, great, explanation, of, why, evs...      2   \n",
       "3    [if, you, need, to, write, a, box, ticking, so...      2   \n",
       "4    [just, saw, an, ai, tool, making, my, coffee, ...      2   \n",
       "..                                                 ...    ...   \n",
       "594  [gpt, s, ai, capabilities, are, also, more, ac...      2   \n",
       "595  [keyboardx, also, provides, a, more, secure, e...      2   \n",
       "596  [keyboardx, allows, users, to, quickly, and, e...      2   \n",
       "597  [i, asked, chatgpt, why, the, app, i, m, worki...      2   \n",
       "598  [there, s, been, a, lot, of, talk, about, ai, ...      2   \n",
       "\n",
       "                                          tweet_tokens  \n",
       "0      (0, 3)\\t1\\n  (1, 7)\\t1\\n  (2, 0)\\t1\\n  (3, 2...  \n",
       "1      (0, 6)\\t1\\n  (1, 32)\\t1\\n  (2, 13)\\t1\\n  (3,...  \n",
       "2      (0, 19)\\t1\\n  (1, 1)\\t1\\n  (3, 11)\\t1\\n  (4,...  \n",
       "3      (0, 11)\\t1\\n  (1, 29)\\t1\\n  (2, 15)\\t1\\n  (3...  \n",
       "4      (0, 6)\\t1\\n  (1, 10)\\t1\\n  (2, 2)\\t1\\n  (3, ...  \n",
       "..                                                 ...  \n",
       "594    (0, 11)\\t1\\n  (2, 2)\\t1\\n  (3, 8)\\t1\\n  (4, ...  \n",
       "595    (0, 11)\\t1\\n  (1, 1)\\t1\\n  (2, 15)\\t1\\n  (4,...  \n",
       "596    (0, 10)\\t1\\n  (1, 2)\\t1\\n  (2, 16)\\t1\\n  (3,...  \n",
       "597    (1, 3)\\t1\\n  (2, 11)\\t1\\n  (3, 31)\\t1\\n  (4,...  \n",
       "598    (0, 30)\\t1\\n  (2, 5)\\t1\\n  (4, 16)\\t1\\n  (5,...  \n",
       "\n",
       "[599 rows x 3 columns]"
      ]
     },
     "execution_count": 85,
     "metadata": {},
     "output_type": "execute_result"
    }
   ],
   "source": [
    "df"
   ]
  },
  {
   "cell_type": "code",
   "execution_count": 106,
   "id": "654d479a",
   "metadata": {},
   "outputs": [],
   "source": [
    "x=df['tweet_tokens'].values"
   ]
  },
  {
   "cell_type": "code",
   "execution_count": 87,
   "id": "de2942a0",
   "metadata": {},
   "outputs": [],
   "source": [
    "y=df['label'].values"
   ]
  },
  {
   "cell_type": "code",
   "execution_count": 88,
   "id": "5281b048",
   "metadata": {},
   "outputs": [],
   "source": [
    "X_train_full,X_test,y_train_full,y_test=train_test_split(x,y,random_state=42)"
   ]
  },
  {
   "cell_type": "code",
   "execution_count": 89,
   "id": "7d40047e",
   "metadata": {},
   "outputs": [],
   "source": [
    "X_train,X_valid,y_train,y_valid=train_test_split(X_train_full,y_train_full,random_state=42)"
   ]
  },
  {
   "cell_type": "code",
   "execution_count": 90,
   "id": "550aa68a",
   "metadata": {},
   "outputs": [],
   "source": [
    "model = Sequential([\n",
    "    Embedding(input_dim=5000, output_dim=32, input_length=20),\n",
    "    LSTM(units=100),\n",
    "    Dense(3, activation='softmax')  \n",
    "])"
   ]
  },
  {
   "cell_type": "code",
   "execution_count": 94,
   "id": "7c855d30",
   "metadata": {},
   "outputs": [
    {
     "name": "stdout",
     "output_type": "stream",
     "text": [
      "Model: \"sequential_1\"\n",
      "_________________________________________________________________\n",
      " Layer (type)                Output Shape              Param #   \n",
      "=================================================================\n",
      " embedding_1 (Embedding)     (None, 20, 32)            160000    \n",
      "                                                                 \n",
      " lstm_1 (LSTM)               (None, 100)               53200     \n",
      "                                                                 \n",
      " dense_1 (Dense)             (None, 3)                 303       \n",
      "                                                                 \n",
      "=================================================================\n",
      "Total params: 213503 (834.00 KB)\n",
      "Trainable params: 213503 (834.00 KB)\n",
      "Non-trainable params: 0 (0.00 Byte)\n",
      "_________________________________________________________________\n",
      "None\n"
     ]
    }
   ],
   "source": [
    "model.compile(loss='categorical_crossentropy', optimizer='adam', metrics=['accuracy'])\n",
    "print(model.summary())"
   ]
  },
  {
   "cell_type": "code",
   "execution_count": 100,
   "id": "aae1d86f",
   "metadata": {},
   "outputs": [],
   "source": [
    "from keras.utils import to_categorical\n",
    "\n",
    "\n",
    "X_train_dense = np.array(X_train)\n",
    "y_train_one_hot = to_categorical(y_train)\n",
    "\n"
   ]
  },
  {
   "cell_type": "code",
   "execution_count": 101,
   "id": "bf77c603",
   "metadata": {},
   "outputs": [
    {
     "ename": "ValueError",
     "evalue": "Failed to convert a NumPy array to a Tensor (Unsupported object type csr_matrix).",
     "output_type": "error",
     "traceback": [
      "\u001b[1;31m---------------------------------------------------------------------------\u001b[0m",
      "\u001b[1;31mValueError\u001b[0m                                Traceback (most recent call last)",
      "Input \u001b[1;32mIn [101]\u001b[0m, in \u001b[0;36m<cell line: 1>\u001b[1;34m()\u001b[0m\n\u001b[1;32m----> 1\u001b[0m \u001b[43mmodel\u001b[49m\u001b[38;5;241;43m.\u001b[39;49m\u001b[43mfit\u001b[49m\u001b[43m(\u001b[49m\u001b[43mX_train\u001b[49m\u001b[43m,\u001b[49m\u001b[43my_train_one_hot\u001b[49m\u001b[43m,\u001b[49m\u001b[43m \u001b[49m\u001b[43mepochs\u001b[49m\u001b[38;5;241;43m=\u001b[39;49m\u001b[38;5;241;43m20\u001b[39;49m\u001b[43m,\u001b[49m\u001b[43m \u001b[49m\u001b[43mbatch_size\u001b[49m\u001b[38;5;241;43m=\u001b[39;49m\u001b[38;5;241;43m64\u001b[39;49m\u001b[43m)\u001b[49m\n",
      "File \u001b[1;32m~\\AppData\\Local\\Programs\\Python\\Python310\\lib\\site-packages\\keras\\src\\utils\\traceback_utils.py:70\u001b[0m, in \u001b[0;36mfilter_traceback.<locals>.error_handler\u001b[1;34m(*args, **kwargs)\u001b[0m\n\u001b[0;32m     67\u001b[0m     filtered_tb \u001b[38;5;241m=\u001b[39m _process_traceback_frames(e\u001b[38;5;241m.\u001b[39m__traceback__)\n\u001b[0;32m     68\u001b[0m     \u001b[38;5;66;03m# To get the full stack trace, call:\u001b[39;00m\n\u001b[0;32m     69\u001b[0m     \u001b[38;5;66;03m# `tf.debugging.disable_traceback_filtering()`\u001b[39;00m\n\u001b[1;32m---> 70\u001b[0m     \u001b[38;5;28;01mraise\u001b[39;00m e\u001b[38;5;241m.\u001b[39mwith_traceback(filtered_tb) \u001b[38;5;28;01mfrom\u001b[39;00m \u001b[38;5;28mNone\u001b[39m\n\u001b[0;32m     71\u001b[0m \u001b[38;5;28;01mfinally\u001b[39;00m:\n\u001b[0;32m     72\u001b[0m     \u001b[38;5;28;01mdel\u001b[39;00m filtered_tb\n",
      "File \u001b[1;32m~\\AppData\\Local\\Programs\\Python\\Python310\\lib\\site-packages\\tensorflow\\python\\framework\\constant_op.py:103\u001b[0m, in \u001b[0;36mconvert_to_eager_tensor\u001b[1;34m(value, ctx, dtype)\u001b[0m\n\u001b[0;32m    101\u001b[0m     dtype \u001b[38;5;241m=\u001b[39m dtypes\u001b[38;5;241m.\u001b[39mas_dtype(dtype)\u001b[38;5;241m.\u001b[39mas_datatype_enum\n\u001b[0;32m    102\u001b[0m ctx\u001b[38;5;241m.\u001b[39mensure_initialized()\n\u001b[1;32m--> 103\u001b[0m \u001b[38;5;28;01mreturn\u001b[39;00m \u001b[43mops\u001b[49m\u001b[38;5;241;43m.\u001b[39;49m\u001b[43mEagerTensor\u001b[49m\u001b[43m(\u001b[49m\u001b[43mvalue\u001b[49m\u001b[43m,\u001b[49m\u001b[43m \u001b[49m\u001b[43mctx\u001b[49m\u001b[38;5;241;43m.\u001b[39;49m\u001b[43mdevice_name\u001b[49m\u001b[43m,\u001b[49m\u001b[43m \u001b[49m\u001b[43mdtype\u001b[49m\u001b[43m)\u001b[49m\n",
      "\u001b[1;31mValueError\u001b[0m: Failed to convert a NumPy array to a Tensor (Unsupported object type csr_matrix)."
     ]
    }
   ],
   "source": [
    "model.fit(X_train,y_train_one_hot, epochs=20, batch_size=64)"
   ]
  },
  {
   "cell_type": "code",
   "execution_count": null,
   "id": "8c7e095a",
   "metadata": {},
   "outputs": [],
   "source": []
  },
  {
   "cell_type": "code",
   "execution_count": null,
   "id": "058ba01e",
   "metadata": {},
   "outputs": [],
   "source": []
  }
 ],
 "metadata": {
  "kernelspec": {
   "display_name": "Python 3 (ipykernel)",
   "language": "python",
   "name": "python3"
  },
  "language_info": {
   "codemirror_mode": {
    "name": "ipython",
    "version": 3
   },
   "file_extension": ".py",
   "mimetype": "text/x-python",
   "name": "python",
   "nbconvert_exporter": "python",
   "pygments_lexer": "ipython3",
   "version": "3.10.6"
  }
 },
 "nbformat": 4,
 "nbformat_minor": 5
}
